{
 "cells": [
  {
   "cell_type": "code",
   "execution_count": 1,
   "metadata": {
    "id": "ZMG07UFJCFTR"
   },
   "outputs": [
    {
     "name": "stderr",
     "output_type": "stream",
     "text": [
      "2022-07-30 15:45:39.156336: I tensorflow/core/util/util.cc:169] oneDNN custom operations are on. You may see slightly different numerical results due to floating-point round-off errors from different computation orders. To turn them off, set the environment variable `TF_ENABLE_ONEDNN_OPTS=0`.\n"
     ]
    }
   ],
   "source": [
    "import tensorflow as tf\n",
    "import keras \n",
    "from keras.layers import *\n",
    "from keras.models import *\n",
    "from keras.preprocessing import image\n",
    "from keras.preprocessing.image import ImageDataGenerator\n",
    "import os\n",
    "from keras.regularizers import l2\n",
    "from keras import callbacks"
   ]
  },
  {
   "cell_type": "code",
   "execution_count": 2,
   "metadata": {
    "colab": {
     "base_uri": "https://localhost:8080/"
    },
    "executionInfo": {
     "elapsed": 288,
     "status": "ok",
     "timestamp": 1656340754107,
     "user": {
      "displayName": "Jakub Wnuk",
      "userId": "01510283357293348175"
     },
     "user_tz": -120
    },
    "id": "sy6YJswhEfYO",
    "outputId": "967b893d-7602-49ef-f0ad-de85f892ad30",
    "scrolled": true
   },
   "outputs": [
    {
     "name": "stderr",
     "output_type": "stream",
     "text": [
      "2022-07-30 15:45:40.808695: I tensorflow/core/platform/cpu_feature_guard.cc:193] This TensorFlow binary is optimized with oneAPI Deep Neural Network Library (oneDNN) to use the following CPU instructions in performance-critical operations:  AVX2 AVX512F AVX512_VNNI FMA\n",
      "To enable them in other operations, rebuild TensorFlow with the appropriate compiler flags.\n",
      "2022-07-30 15:45:40.879609: I tensorflow/stream_executor/cuda/cuda_gpu_executor.cc:975] successful NUMA node read from SysFS had negative value (-1), but there must be at least one NUMA node, so returning NUMA node zero\n",
      "2022-07-30 15:45:40.903027: I tensorflow/stream_executor/cuda/cuda_gpu_executor.cc:975] successful NUMA node read from SysFS had negative value (-1), but there must be at least one NUMA node, so returning NUMA node zero\n",
      "2022-07-30 15:45:40.903111: I tensorflow/stream_executor/cuda/cuda_gpu_executor.cc:975] successful NUMA node read from SysFS had negative value (-1), but there must be at least one NUMA node, so returning NUMA node zero\n",
      "2022-07-30 15:45:41.382135: I tensorflow/stream_executor/cuda/cuda_gpu_executor.cc:975] successful NUMA node read from SysFS had negative value (-1), but there must be at least one NUMA node, so returning NUMA node zero\n",
      "2022-07-30 15:45:41.382242: I tensorflow/stream_executor/cuda/cuda_gpu_executor.cc:975] successful NUMA node read from S"
     ]
    },
    {
     "data": {
      "text/plain": [
       "[name: \"/device:CPU:0\"\n",
       " device_type: \"CPU\"\n",
       " memory_limit: 268435456\n",
       " locality {\n",
       " }\n",
       " incarnation: 8267722960145874090\n",
       " xla_global_id: -1,\n",
       " name: \"/device:GPU:0\"\n",
       " device_type: \"GPU\"\n",
       " memory_limit: 23213703168\n",
       " locality {\n",
       "   bus_id: 1\n",
       "   links {\n",
       "   }\n",
       " }\n",
       " incarnation: 12722680529640039208\n",
       " physical_device_desc: \"device: 0, name: NVIDIA GeForce RTX 3090, pci bus id: 0000:02:00.0, compute capability: 8.6\"\n",
       " xla_global_id: 416903419]"
      ]
     },
     "execution_count": 2,
     "metadata": {},
     "output_type": "execute_result"
    },
    {
     "name": "stderr",
     "output_type": "stream",
     "text": [
      "ysFS had negative value (-1), but there must be at least one NUMA node, so returning NUMA node zero\n",
      "2022-07-30 15:45:41.382310: I tensorflow/stream_executor/cuda/cuda_gpu_executor.cc:975] successful NUMA node read from SysFS had negative value (-1), but there must be at least one NUMA node, so returning NUMA node zero\n",
      "2022-07-30 15:45:41.382377: I tensorflow/core/common_runtime/gpu/gpu_device.cc:1532] Created device /device:GPU:0 with 22138 MB memory:  -> device: 0, name: NVIDIA GeForce RTX 3090, pci bus id: 0000:02:00.0, compute capability: 8.6\n"
     ]
    }
   ],
   "source": [
    "from tensorflow.python.client import device_lib\n",
    "device_lib.list_local_devices()"
   ]
  },
  {
   "cell_type": "code",
   "execution_count": 3,
   "metadata": {
    "id": "OqFsX96LEsZP"
   },
   "outputs": [],
   "source": [
    "output_classes = 2\n",
    "image_height, image_width = 580, 400\n",
    "image_shape = (image_height, image_width)\n",
    "epochs = 10;\n"
   ]
  },
  {
   "cell_type": "code",
   "execution_count": 4,
   "metadata": {
    "id": "3L9ddGxJAZ1c"
   },
   "outputs": [],
   "source": [
    "train_data = r'/home/cybertech1/data/filtered_balanced/train_set'\n",
    "val_data=r'/home/cybertech1/data/filtered_balanced/validation_set'\n",
    "test_data = r'/home/cybertech1/data/filtered_balanced/test_set'"
   ]
  },
  {
   "cell_type": "code",
   "execution_count": 5,
   "metadata": {
    "id": "UhqKzx9y51nI"
   },
   "outputs": [],
   "source": [
    "#if k.image_data_format() == 'channels_first':\n",
    "#  input_shape = (3, img_width, img_height)\n",
    "#else:\n",
    "#  input_shape = (img_width, img_height, 3)"
   ]
  },
  {
   "cell_type": "code",
   "execution_count": 6,
   "metadata": {
    "colab": {
     "base_uri": "https://localhost:8080/"
    },
    "executionInfo": {
     "elapsed": 113140,
     "status": "ok",
     "timestamp": 1656340877500,
     "user": {
      "displayName": "Jakub Wnuk",
      "userId": "01510283357293348175"
     },
     "user_tz": -120
    },
    "id": "A9nAPkXVEUa6",
    "outputId": "1f5f4dc5-a8a2-46e2-d3f2-ed78fc30d901"
   },
   "outputs": [
    {
     "name": "stdout",
     "output_type": "stream",
     "text": [
      "train: \n",
      "/home/cybertech1/data/filtered_balanced/train_set 0\n",
      "/home/cybertech1/data/filtered_balanced/train_set/NONE 0\n",
      "/home/cybertech1/data/filtered_balanced/train_set/NONE/NONE 3718\n",
      "/home/cybertech1/data/filtered_balanced/train_set/t 0\n",
      "/home/cybertech1/data/filtered_balanced/train_set/t/t 1859\n",
      "val: \n",
      "/home/cybertech1/data/filtered_balanced/validation_set 0\n",
      "/home/cybertech1/data/filtered_balanced/validation_set/NONE 0\n",
      "/home/cybertech1/data/filtered_balanced/validation_set/NONE/NONE 2222\n",
      "/home/cybertech1/data/filtered_balanced/validation_set/t 0\n",
      "/home/cybertech1/data/filtered_balanced/validation_set/t/t 1111\n",
      "test: \n",
      "/home/cybertech1/data/filtered_balanced/test_set 0\n",
      "/home/cybertech1/data/filtered_balanced/test_set/NONE 0\n",
      "/home/cybertech1/data/filtered_balanced/test_set/NONE/NONE 13379\n",
      "/home/cybertech1/data/filtered_balanced/test_set/t 0\n",
      "/home/cybertech1/data/filtered_balanced/test_set/t/t 1668\n"
     ]
    }
   ],
   "source": [
    "print('train: ')\n",
    "for root,dirs,files in os.walk(train_data):\n",
    "    print (root, len(files))\n",
    "print('val: ')\n",
    "for root,dirs,files in os.walk(val_data):\n",
    "    print (root, len(files))\n",
    "print('test: ')\n",
    "for root,dirs,files in os.walk(test_data):\n",
    "    print (root, len(files))"
   ]
  },
  {
   "cell_type": "code",
   "execution_count": 7,
   "metadata": {
    "colab": {
     "base_uri": "https://localhost:8080/"
    },
    "executionInfo": {
     "elapsed": 1844,
     "status": "ok",
     "timestamp": 1656340883213,
     "user": {
      "displayName": "Jakub Wnuk",
      "userId": "01510283357293348175"
     },
     "user_tz": -120
    },
    "id": "mL40JOq55kdL",
    "outputId": "dc9f6ff8-b17a-49ca-dabe-73e56e1a4f48"
   },
   "outputs": [
    {
     "name": "stdout",
     "output_type": "stream",
     "text": [
      "Found 5577 images belonging to 2 classes.\n",
      "Found 3333 images belonging to 2 classes.\n",
      "Found 15047 images belonging to 2 classes.\n"
     ]
    }
   ],
   "source": [
    "train_datagen = ImageDataGenerator(\n",
    "    rescale = 1./255,\n",
    "    zoom_range=0.2,\n",
    "    rotation_range=20,\n",
    "    horizontal_flip = True,\n",
    ")\n",
    "\n",
    "train_generator = train_datagen.flow_from_directory(\n",
    "    train_data,\n",
    "    target_size = (image_shape),\n",
    "    batch_size = 32,\n",
    "    class_mode = 'binary'\n",
    ")\n",
    "\n",
    "val_generator = train_datagen.flow_from_directory(\n",
    "    val_data,\n",
    "    target_size = (image_shape),\n",
    "    batch_size = 32,\n",
    "    class_mode = 'binary'\n",
    ")\n",
    "\n",
    "test_datagen = ImageDataGenerator(rescale = 1./255)\n",
    "\n",
    "test_generator = test_datagen.flow_from_directory(\n",
    "    test_data,\n",
    "    target_size = (image_shape),\n",
    "    batch_size = 32,\n",
    "    class_mode = 'binary'\n",
    ")\n"
   ]
  },
  {
   "cell_type": "code",
   "execution_count": 8,
   "metadata": {
    "colab": {
     "base_uri": "https://localhost:8080/"
    },
    "executionInfo": {
     "elapsed": 7117,
     "status": "ok",
     "timestamp": 1656340896181,
     "user": {
      "displayName": "Jakub Wnuk",
      "userId": "01510283357293348175"
     },
     "user_tz": -120
    },
    "id": "3etTZUkxM1XU",
    "outputId": "192e5a37-1759-445e-d9f2-d8338a61245e"
   },
   "outputs": [
    {
     "name": "stderr",
     "output_type": "stream",
     "text": [
      "2022-07-30 15:46:15.448504: I tensorflow/stream_executor/cuda/cuda_gpu_executor.cc:975] successful NUMA node read from SysFS had negative value (-1), but there must be at least one NUMA node, so returning NUMA node zero\n",
      "2022-07-30 15:46:15.448664: I tensorflow/stream_executor/cuda/cuda_gpu_executor.cc:975] successful NUMA node read from SysFS had negative value (-1), but there must be at least one NUMA node, so returning NUMA node zero\n",
      "2022-07-30 15:46:15.448751: I tensorflow/stream_executor/cuda/cuda_gpu_executor.cc:975] successful NUMA node read from SysFS had negative value (-1), but there must be at least one NUMA node, so returning NUMA node zero\n",
      "2022-07-30 15:46:15.448988: I tensorflow/stream_executor/cuda/cuda_gpu_executor.cc:975] successful NUMA node read from SysFS had negative value (-1), but there must be at least one NUMA node, so returning NUMA node zero\n",
      "2022-07-30 15:46:15.449086: I tensorflow/stream_executor/cuda/cuda_gpu_executor.cc:975] successful NUMA node read from SysFS had negative value (-1), but there must be at least one NUMA node, so returning NUMA node zero\n",
      "2022-07-30 15:46:15.449169: I tensorflow/stream_executor/cuda/cuda_gpu_executor.cc:975] successful NUMA node read from SysFS had negative value (-1), but there must be at least one NUMA node, so returning NUMA node zero\n",
      "2022-07-30 15:46:15.449292: I tensorflow/stream_executor/cuda/cuda_gpu_executor.cc:975] successful NUMA node read from SysFS had negative value (-1), but there must be at least one NUMA node, so returning NUMA node zero\n",
      "2022-07-30 15:46:15.449381: I tensorflow/stream_executor/cuda/cuda_gpu_executor.cc:975] successful NUMA node read from SysFS had negative value (-1), but there must be at least one NUMA node, so returning NUMA node zero\n",
      "2022-07-30 15:46:15.449461: I tensorflow/core/common_runtime/gpu/gpu_device.cc:1532] Created device /job:localhost/replica:0/task:0/device:GPU:0 with 22138 MB memory:  -> device: 0, name: NVIDIA GeForce RTX 3090, pci bus id: 0000:02:00.0, compute capability: 8.6\n"
     ]
    }
   ],
   "source": [
    "base_model = tf.keras.applications.DenseNet121(\n",
    "    weights='imagenet', \n",
    "    include_top=False, \n",
    "    input_tensor=Input(shape=(image_shape+(3,)))\n",
    "    )\n",
    "x = base_model.output\n",
    "x = GlobalAveragePooling2D()(x)\n",
    "x = Dense(1024, kernel_regularizer=l2(0.0001), bias_regularizer=l2(0.0001))(x)\n",
    "x = BatchNormalization()(x)\n",
    "x = Activation(\"relu\")(x)\n",
    "x = Dropout(0.5)(x)\n",
    "x = Dense(1024, kernel_regularizer=l2(0.0001), bias_regularizer=l2(0.0001))(x)\n",
    "x = BatchNormalization()(x)\n",
    "x = Activation(\"relu\")(x)\n",
    "x = Dropout(0.5)(x)\n",
    "prediction = Dense(output_classes, activation=tf.nn.softmax)(x)\n",
    "\n",
    "model = Model(inputs=base_model.input,outputs=prediction)"
   ]
  },
  {
   "cell_type": "code",
   "execution_count": 9,
   "metadata": {
    "id": "K9sGTskVYe5X"
   },
   "outputs": [],
   "source": [
    "'''\n",
    "model.compile(optimizer= 'adam',\n",
    "              loss = 'categorical_crossentropy',\n",
    "              metrics=['accuracy'])\n",
    "'''\n",
    "model.compile(optimizer='adam',loss = tf.keras.losses.SparseCategoricalCrossentropy(from_logits=True), metrics=['accuracy'])"
   ]
  },
  {
   "cell_type": "code",
   "execution_count": 10,
   "metadata": {
    "colab": {
     "base_uri": "https://localhost:8080/"
    },
    "id": "-q-AJXxOvwnA",
    "outputId": "c495e911-1610-4db2-f60e-c3e638afdd9c"
   },
   "outputs": [
    {
     "name": "stdout",
     "output_type": "stream",
     "text": [
      "Epoch 1/32\n"
     ]
    },
    {
     "name": "stderr",
     "output_type": "stream",
     "text": [
      "2022-07-30 15:46:30.558359: I tensorflow/stream_executor/cuda/cuda_dnn.cc:384] Loaded cuDNN version 8302\n",
      "2022-07-30 15:46:32.542816: I tensorflow/stream_executor/cuda/cuda_blas.cc:1786] TensorFloat-32 will be used for the matrix multiplication. This will only be logged once.\n"
     ]
    },
    {
     "name": "stdout",
     "output_type": "stream",
     "text": [
      "174/174 [==============================] - 128s 679ms/step - loss: 0.8146 - accuracy: 0.6534 - val_loss: 0.8038 - val_accuracy: 0.6432\n",
      "Epoch 2/32\n",
      "174/174 [==============================] - 115s 656ms/step - loss: 0.7736 - accuracy: 0.6647 - val_loss: 0.7673 - val_accuracy: 0.6589\n",
      "Epoch 3/32\n",
      "174/174 [==============================] - 113s 648ms/step - loss: 0.7452 - accuracy: 0.6660 - val_loss: 0.7063 - val_accuracy: 0.6979\n",
      "Epoch 4/32\n",
      "174/174 [==============================] - 113s 646ms/step - loss: 0.7263 - accuracy: 0.6653 - val_loss: 0.6982 - val_accuracy: 0.7031\n",
      "Epoch 5/32\n",
      "174/174 [==============================] - 115s 659ms/step - loss: 0.6996 - accuracy: 0.6678 - val_loss: 0.7824 - val_accuracy: 0.4974\n",
      "Epoch 6/32\n",
      "174/174 [==============================] - 113s 650ms/step - loss: 0.6835 - accuracy: 0.6774 - val_loss: 0.7003 - val_accuracy: 0.6458\n",
      "Epoch 7/32\n",
      "174/174 [==============================] - 113s 648ms/step - loss: 0.6633 - accuracy: 0.6862 - val_loss: 0.6823 - val_accuracy: 0.6797\n",
      "Epoch 8/32\n",
      "174/174 [==============================] - 113s 650ms/step - loss: 0.6507 - accuracy: 0.6894 - val_loss: 0.8429 - val_accuracy: 0.4427\n",
      "Epoch 9/32\n",
      "174/174 [==============================] - 113s 650ms/step - loss: 0.6469 - accuracy: 0.6894 - val_loss: 0.7304 - val_accuracy: 0.6094\n",
      "Epoch 10/32\n",
      "174/174 [==============================] - 113s 650ms/step - loss: 0.6361 - accuracy: 0.6900 - val_loss: 0.6959 - val_accuracy: 0.6406\n",
      "Epoch 11/32\n",
      "174/174 [==============================] - 113s 646ms/step - loss: 0.6332 - accuracy: 0.6889 - val_loss: 0.6571 - val_accuracy: 0.6823\n",
      "Epoch 12/32\n",
      "174/174 [==============================] - 113s 646ms/step - loss: 0.6288 - accuracy: 0.6961 - val_loss: 0.7332 - val_accuracy: 0.5885\n",
      "Epoch 13/32\n",
      "174/174 [==============================] - 113s 649ms/step - loss: 0.6312 - accuracy: 0.6940 - val_loss: 0.7222 - val_accuracy: 0.5911\n",
      "Epoch 14/32\n",
      "174/174 [==============================] - 112s 644ms/step - loss: 0.6170 - accuracy: 0.7057 - val_loss: 0.6530 - val_accuracy: 0.6901\n",
      "Epoch 15/32\n",
      "174/174 [==============================] - 113s 650ms/step - loss: 0.6157 - accuracy: 0.7053 - val_loss: 0.6548 - val_accuracy: 0.6719\n",
      "Epoch 16/32\n",
      "174/174 [==============================] - 113s 647ms/step - loss: 0.6149 - accuracy: 0.7057 - val_loss: 0.6669 - val_accuracy: 0.6589\n",
      "Epoch 17/32\n",
      "174/174 [==============================] - 118s 675ms/step - loss: 0.6301 - accuracy: 0.6979 - val_loss: 0.6875 - val_accuracy: 0.6510\n",
      "Epoch 18/32\n",
      "174/174 [==============================] - 120s 690ms/step - loss: 0.6353 - accuracy: 0.6932 - val_loss: 0.6724 - val_accuracy: 0.6589\n",
      "Epoch 19/32\n",
      "174/174 [==============================] - 113s 647ms/step - loss: 0.6562 - accuracy: 0.6738 - val_loss: 0.6846 - val_accuracy: 0.6615\n",
      "Epoch 20/32\n",
      "174/174 [==============================] - 115s 659ms/step - loss: 0.6243 - accuracy: 0.6959 - val_loss: 0.6625 - val_accuracy: 0.6719\n",
      "Epoch 21/32\n",
      "174/174 [==============================] - 114s 651ms/step - loss: 0.6162 - accuracy: 0.7106 - val_loss: 0.7025 - val_accuracy: 0.6224\n",
      "Epoch 22/32\n",
      "174/174 [==============================] - 113s 648ms/step - loss: 0.6230 - accuracy: 0.7044 - val_loss: 0.6843 - val_accuracy: 0.6484\n",
      "Epoch 23/32\n",
      "174/174 [==============================] - 113s 648ms/step - loss: 0.6166 - accuracy: 0.7131 - val_loss: 0.7621 - val_accuracy: 0.5417\n",
      "Epoch 24/32\n",
      "174/174 [==============================] - 114s 650ms/step - loss: 0.6047 - accuracy: 0.7250 - val_loss: 0.6689 - val_accuracy: 0.6589\n",
      "Epoch 25/32\n",
      "174/174 [==============================] - 114s 652ms/step - loss: 0.6144 - accuracy: 0.7127 - val_loss: 0.8286 - val_accuracy: 0.4635\n",
      "Epoch 26/32\n",
      "174/174 [==============================] - 113s 648ms/step - loss: 0.5971 - accuracy: 0.7327 - val_loss: 0.8888 - val_accuracy: 0.4271\n",
      "Epoch 27/32\n",
      "174/174 [==============================] - 113s 648ms/step - loss: 0.5813 - accuracy: 0.7457 - val_loss: 0.9505 - val_accuracy: 0.3724\n",
      "Epoch 28/32\n",
      "174/174 [==============================] - 114s 652ms/step - loss: 0.5726 - accuracy: 0.7542 - val_loss: 0.8699 - val_accuracy: 0.4479\n",
      "Epoch 29/32\n",
      "174/174 [==============================] - 113s 650ms/step - loss: 0.5711 - accuracy: 0.7564 - val_loss: 0.8939 - val_accuracy: 0.4245\n",
      "Epoch 30/32\n",
      "174/174 [==============================] - 113s 650ms/step - loss: 0.5518 - accuracy: 0.7728 - val_loss: 0.9031 - val_accuracy: 0.4219\n",
      "Epoch 31/32\n",
      "174/174 [==============================] - 114s 651ms/step - loss: 0.5364 - accuracy: 0.7865 - val_loss: 0.8705 - val_accuracy: 0.4349\n",
      "Epoch 32/32\n",
      "174/174 [==============================] - 114s 651ms/step - loss: 0.5315 - accuracy: 0.7904 - val_loss: 0.8569 - val_accuracy: 0.4583\n"
     ]
    }
   ],
   "source": [
    "#przerywamy jeśli wystepuje overfitting\n",
    "tf.keras.callbacks.EarlyStopping(\n",
    "    monitor='val_loss',\n",
    "    min_delta=0,\n",
    "    patience=0,\n",
    "    verbose=0,\n",
    "    mode='auto',\n",
    "    baseline=None,\n",
    "    restore_best_weights=False\n",
    ")\n",
    "\n",
    "train_steps = 5577//32\n",
    "val_steps = 5577//32\n",
    "\n",
    "\n",
    "history = model.fit(\n",
    "    train_generator,\n",
    "    steps_per_epoch=train_steps,\n",
    "    epochs = 32,\n",
    "    validation_data=val_generator,\n",
    "    validation_steps=12\n",
    ")"
   ]
  },
  {
   "cell_type": "code",
   "execution_count": 11,
   "metadata": {},
   "outputs": [
    {
     "name": "stdout",
     "output_type": "stream",
     "text": [
      "471/471 [==============================] - 48s 101ms/step - loss: 0.6951 - accuracy: 0.6216\n"
     ]
    },
    {
     "data": {
      "text/plain": [
       "[0.6951245665550232, 0.6215857267379761]"
      ]
     },
     "execution_count": 11,
     "metadata": {},
     "output_type": "execute_result"
    }
   ],
   "source": [
    "model.evaluate(test_generator)"
   ]
  },
  {
   "cell_type": "code",
   "execution_count": null,
   "metadata": {},
   "outputs": [],
   "source": []
  }
 ],
 "metadata": {
  "colab": {
   "authorship_tag": "ABX9TyNwt5eIvBOMXXOnmTVdrLcG",
   "collapsed_sections": [],
   "name": "Densenet121.ipynb",
   "provenance": []
  },
  "kernelspec": {
   "display_name": "Python 3 (ipykernel)",
   "language": "python",
   "name": "python3"
  },
  "language_info": {
   "codemirror_mode": {
    "name": "ipython",
    "version": 3
   },
   "file_extension": ".py",
   "mimetype": "text/x-python",
   "name": "python",
   "nbconvert_exporter": "python",
   "pygments_lexer": "ipython3",
   "version": "3.8.10"
  }
 },
 "nbformat": 4,
 "nbformat_minor": 1
}
